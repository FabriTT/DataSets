{
  "nbformat": 4,
  "nbformat_minor": 0,
  "metadata": {
    "colab": {
      "provenance": [],
      "authorship_tag": "ABX9TyPVTNRRVA++XYayQ9/CnYex",
      "include_colab_link": true
    },
    "kernelspec": {
      "name": "python3",
      "display_name": "Python 3"
    },
    "language_info": {
      "name": "python"
    }
  },
  "cells": [
    {
      "cell_type": "markdown",
      "metadata": {
        "id": "view-in-github",
        "colab_type": "text"
      },
      "source": [
        "<a href=\"https://colab.research.google.com/github/FabriTT/DataSets/blob/main/FemeninaDataset.ipynb\" target=\"_parent\"><img src=\"https://colab.research.google.com/assets/colab-badge.svg\" alt=\"Open In Colab\"/></a>"
      ]
    },
    {
      "cell_type": "code",
      "execution_count": 59,
      "metadata": {
        "id": "ZRwP1ap_sOdA"
      },
      "outputs": [],
      "source": [
        "import requests\n",
        "from bs4 import BeautifulSoup\n",
        "import pandas as pd\n",
        "import time"
      ]
    },
    {
      "cell_type": "code",
      "source": [
        "base_url = \"https://femenina.com.bo/marcas/comfortflex/\"\n",
        "response = requests.get(url)"
      ],
      "metadata": {
        "id": "OfJ6_1rhstxo"
      },
      "execution_count": 60,
      "outputs": []
    },
    {
      "cell_type": "code",
      "source": [
        "response"
      ],
      "metadata": {
        "colab": {
          "base_uri": "https://localhost:8080/"
        },
        "id": "0LPdmrlktZ5c",
        "outputId": "7454c005-a05c-409c-ac34-5b386acc4ce2"
      },
      "execution_count": 61,
      "outputs": [
        {
          "output_type": "execute_result",
          "data": {
            "text/plain": [
              "<Response [200]>"
            ]
          },
          "metadata": {},
          "execution_count": 61
        }
      ]
    },
    {
      "cell_type": "code",
      "source": [
        "# Lista para almacenar los datos de los productos\n",
        "dataNews = []\n",
        "\n",
        "# Función para extraer los productos de una página\n",
        "def scrape_page(url):\n",
        "    response = requests.get(url)\n",
        "    if response.status_code == 200:\n",
        "        soup = BeautifulSoup(response.text, 'html.parser')\n",
        "        news_items = soup.find('ul', class_='products hover-slider main-products layout-standard columns-4')\n",
        "\n",
        "        if news_items:\n",
        "            items = news_items.find_all('li')\n",
        "            for item in items:\n",
        "                # Nombre del producto\n",
        "                nombre = item.find('h2', class_='woocommerce-loop-product__title')\n",
        "                product_name = nombre.a.text.strip() if nombre and nombre.a else \"N/A\"\n",
        "\n",
        "                # URL del producto\n",
        "                enlace = item.find('div', class_='product-thumbnail').find('a', href=True)\n",
        "                product_url = enlace['href'] if enlace else \"N/A\"\n",
        "\n",
        "                # Imagen del producto\n",
        "                imagen = item.find('img')\n",
        "                image_url = imagen['src'] if imagen else \"N/A\"\n",
        "\n",
        "                # Precio del producto\n",
        "                precio = item.find('span', class_='woocommerce-Price-amount')\n",
        "                product_price = precio.text.strip() if precio else \"N/A\"\n",
        "\n",
        "                # Obtener descripción del producto\n",
        "                product_description = scrape_description(product_url)\n",
        "\n",
        "                # Guardar en la lista\n",
        "                dataNews.append([product_name, product_url, image_url, product_price, product_description])\n",
        "\n",
        "# Función para obtener la descripción de un producto\n",
        "def scrape_description(product_url):\n",
        "    try:\n",
        "        response = requests.get(product_url)\n",
        "        if response.status_code == 200:\n",
        "            soup = BeautifulSoup(response.text, 'html.parser')\n",
        "            desc_container = soup.find('div', class_='woocommerce-product-details__short-description')\n",
        "            if desc_container:\n",
        "                description = desc_container.get_text(strip=True)\n",
        "                return description\n",
        "        return \"No disponible\"\n",
        "    except Exception as e:\n",
        "        return f\"Error: {e}\"\n",
        "\n",
        "# Obtener todas las páginas disponibles\n",
        "def get_all_pages(base_url):\n",
        "    pages = [base_url]  # Lista con la primera página\n",
        "    response = requests.get(base_url)\n",
        "\n",
        "    if response.status_code == 200:\n",
        "        soup = BeautifulSoup(response.text, 'html.parser')\n",
        "        pagination = soup.find('ul', class_='page-numbers')\n",
        "\n",
        "        if pagination:\n",
        "            links = pagination.find_all('a', class_='page-numbers', href=True)\n",
        "            for link in links:\n",
        "                page_url = link['href']\n",
        "                if page_url not in pages:\n",
        "                    pages.append(page_url)  # Agregar solo si no está repetida\n",
        "\n",
        "    return pages\n",
        "\n",
        "# Obtener todas las URLs de paginación\n",
        "page_urls = get_all_pages(base_url)\n",
        "\n",
        "# Scraping de cada página\n",
        "for page_url in page_urls:\n",
        "    print(f\"Scrapeando: {page_url}\")\n",
        "    scrape_page(page_url)\n",
        "    time.sleep(1)  # Pequeña pausa para no sobrecargar el servidor\n",
        "\n",
        "# Crear DataFrame\n",
        "df = pd.DataFrame(dataNews, columns=[\"Producto\", \"URL\", \"Imagen\", \"Precio\", \"Descripción\"])\n",
        "\n",
        "# Configurar pandas para evitar saltos de línea\n",
        "pd.set_option('display.max_colwidth', None)\n",
        "pd.set_option('display.expand_frame_repr', False)\n",
        "\n",
        "# Imprimir el DataFrame\n",
        "print(df.to_string(index=False, col_space=20))\n",
        "\n",
        "\n"
      ],
      "metadata": {
        "colab": {
          "base_uri": "https://localhost:8080/"
        },
        "id": "B3F9j2XGtbyD",
        "outputId": "128b1111-54e3-4784-d9df-d2a438f23c25"
      },
      "execution_count": 62,
      "outputs": [
        {
          "output_type": "stream",
          "name": "stdout",
          "text": [
            "Scrapeando: https://femenina.com.bo/marcas/comfortflex/\n",
            "Scrapeando: https://femenina.com.bo/marcas/comfortflex/page/2/\n",
            "Scrapeando: https://femenina.com.bo/marcas/comfortflex/page/3/\n",
            "Scrapeando: https://femenina.com.bo/marcas/comfortflex/page/4/\n",
            "                   Producto                                                                                       URL                                                                                     Imagen               Precio                                                                                                                                                                                                                                                                                        Descripción\n",
            "              Chinela Slide                                       https://femenina.com.bo/shop/zapatos/chinela-slide/            https://femenina.com.bo/wp-content/uploads/2024/04/2255401-1-1.jpg-300x300.webp              Bs. 230                                                                                                                                            Chinela desarrollada en EVA, cómoda y súper ligera, es ideal para el día a día y también para el tiempo libre. Elige el color que mejor se adapte a ti.\n",
            "          Sueco Comfortflex                           https://femenina.com.bo/shop/zapatos/tacones/zueco-comfortflex/              https://femenina.com.bo/wp-content/uploads/2024/04/2367401-4.jpg-300x300.webp              Bs. 300                                                                                                                                               Prepárate para moverte con comodidad. Con este modelo seguro que crearás innumerables posibilidades de looks para aprovechar al máximo la temporada.\n",
            "             Sandalia Joana                   https://femenina.com.bo/shop/zapatos/sandalias-fiesta/sandalia-joana-3/              https://femenina.com.bo/wp-content/uploads/2024/04/2367402-2.jpg-300x300.webp              Bs. 350                                                                                                                                               Prepárate para moverte con comodidad. Con este modelo seguro que crearás innumerables posibilidades de looks para aprovechar al máximo la temporada.\n",
            "              Sandalia Flow                          https://femenina.com.bo/shop/tecnologia-y-confort/sandalia-flow/              https://femenina.com.bo/wp-content/uploads/2024/04/2368404-1.jpg-300x300.webp              Bs. 350                                  Con un diseño moderno, esta sandalia es la opción ideal para las amantes de la moda que no renuncian a la comodidad. ¡Siente la libertad y comodidad de caminar con los zapatos con tecnología ComfortFlow!.Un toque extra de comodidad para todas las ocasiones.\n",
            "            Sandalia Melisa                         https://femenina.com.bo/shop/zapatos/sandalias/sandalia-melisa-2/              https://femenina.com.bo/wp-content/uploads/2024/04/2368405-1.jpg-300x300.webp              Bs. 350                                                                                                                                                                            ¡Un clásico que no pasará de moda ni en los pies de la mujer moderna! Te mereces la máxima comodidad para tu día a día.\n",
            " Sandalia Casual Comforflex https://femenina.com.bo/shop/tecnologia-y-confort/comfortflow/sandalia-casual-comforflex/                   https://femenina.com.bo/wp-content/uploads/2024/07/2342401-6-300x300.jpg              Bs. 360                                                                                                                                                                                        Su acabado cómodo y plataforma elevada te brindarán la libertad y comodidad para desplazarte con seguridad.\n",
            "             Tamanco Casual                              https://femenina.com.bo/shop/zapatos/tacones/tamanco-casual/       https://femenina.com.bo/wp-content/uploads/2024/04/Tamanco-Casual-2.jpg-300x300.webp              Bs. 380                                                                                                                                                                                      Tan delicado como sofisticado, gracias a su tacón bajo este tamanco es ideal para los días de sol y comodidad\n",
            "Mules con detalle de cadena                         https://femenina.com.bo/shop/zapatos/mules-con-detalle-de-cadena/              https://femenina.com.bo/wp-content/uploads/2024/04/2283432-1.jpg-300x300.webp              Bs. 390                                                                                                               ¡Estilo y comodidad! Mules con detalles de cadenas que resaltan con un toque elegante, brindándote toda la comodidad y prácticidad que necesitas, para el trabajo o en tu día a día.\n",
            "Mule con detalle de corbata                         https://femenina.com.bo/shop/zapatos/mule-con-detalle-de-corbata/              https://femenina.com.bo/wp-content/uploads/2024/04/2283431-1.jpg-300x300.webp              Bs. 390                                                                                                                                                                           Si te gusta ir cómoda pero a la vez con estilo, este modelo es para ti. ¡Apuesta por este modelo elegante y sofisticado!\n",
            "       Sandalia Comfortflex                   https://femenina.com.bo/shop/sandalias-flash-sale/sandalia-comfortflex/               https://femenina.com.bo/wp-content/uploads/2024/04/228454-2.jpg-300x300.webp              Bs. 390                                                                                                                                                                                                                                         ¡Ideal para lucir elegante y estar cómoda al mismo tiempo!\n",
            "             Tamanco Noelia             https://femenina.com.bo/shop/tecnologia-y-confort/comfortflow/tamanco-noelia/                   https://femenina.com.bo/wp-content/uploads/2024/09/2486352-1-300x300.jpg              Bs. 390                                                                                                                                                     Con un diseño sofisticado y un uso práctico, nuestro tamanco comfortflex es la opción adecuada para quienes quieren combinar moda y comodidad.\n",
            "            Ballerina Wendy                                     https://femenina.com.bo/shop/zapatos/ballerina-wendy/            https://femenina.com.bo/wp-content/uploads/2024/04/2362302-3.jpg-1-300x300.webp              Bs. 400                                             El modelo tiene un detalle metalizado en la parte delantera, lo que le da un encanto extra para combinar con tu look favorito. El interior super suave garantiza la comodidad para eventos en los que necesita permanecer de pie durante mucho tiempo.\n",
            "              Mocasín Hanna                            https://femenina.com.bo/shop/zapatos/ballerinas/mocasin-hanna/                 https://femenina.com.bo/wp-content/uploads/2023/11/2363404-1-1-300x300.jpg              Bs. 400                                                                                                                                                                      Pieza clave de un armario clásico y versátil: ¡loafer! Un modelo discreto y, a la vez, súper versátil para cualquier ocasión.\n",
            "              Sueco Comfort                                       https://femenina.com.bo/shop/zapatos/zueco-comfort/             https://femenina.com.bo/wp-content/uploads/2024/04/2357401-10.jpg-300x300.webp              Bs. 400                                                                                                                                                                                                       Un equilibrio perfecto entre estilo y comodidad, la elección perfecta para la mujer moderna.\n",
            "           Sandalia Glitter                              https://femenina.com.bo/shop/sin-categoria/sandalia-glitter/                   https://femenina.com.bo/wp-content/uploads/2024/07/2442332-2-300x300.jpg              Bs. 400                                                                                 ¡Comodidad garantizada! Además de su plantilla acolchonada, cuenta con una tira en el talón y una delicada protección para acomodar mejor tu pie. Siente la libertad y de caminar con estas sandalias COMFORTFLEX.\n",
            "  Sandalia de taco cuadrado                           https://femenina.com.bo/shop/zapatos/sandalia-de-taco-cuadrado/              https://femenina.com.bo/wp-content/uploads/2024/04/2277402-1.jpg-300x300.webp              Bs. 430                              Cómoda y elegante con un tacón bloque, su plataforma tiene un diseño diferenciado aportando modernidad al modelo. Es ideal para el día a día o para eventos más sociales, combinando también con diferentes looks, se acomoda al juanete y posee una plantilla suave.\n",
            "               Scarpin Dana                              https://femenina.com.bo/shop/zapatos/stilettos/scarpin-dana/              https://femenina.com.bo/wp-content/uploads/2024/04/2354331-1.jpg-300x300.webp              Bs. 440                                                                                                                                                                             Su tacón bajo es ideal para tus looks de oficina, su detalle de tiro en el talón, le aporta elegancia y sofisticación.\n",
            "            Scarpin Clásico                             https://femenina.com.bo/shop/zapatos/tacones/scarpin-clasico/      https://femenina.com.bo/wp-content/uploads/2024/04/Scarpin-Clasico-2.jpg-300x300.webp              Bs. 440                                                                                                                                                             Añade sofisticación y personalidad a tus looks con un diseño único que lo tiene todo para convertirse en el protagonista de tus looks.\n",
            "       Tacon New Comforflex                        https://femenina.com.bo/shop/zapatos/tacones/tacon-new-comforflex/                   https://femenina.com.bo/wp-content/uploads/2024/07/2457306-1-300x300.jpg              Bs. 440                                                                                                                                                                                                Con este modelo crearás innumerables posibilidades de looks para aprovechar al máximo la temporada.\n",
            "           Sandalia Rosario           https://femenina.com.bo/shop/tecnologia-y-confort/comfortflow/sandalia-rosario/                   https://femenina.com.bo/wp-content/uploads/2024/12/2442405-1-300x300.jpg              Bs. 440                                                                                                                                                                                                 Eleva tu autoestima a un nuevo nivel con esta sandalia súper elegante, perfecto para el día a día.\n",
            "            Sandalia Martha                             https://femenina.com.bo/shop/zapatos/tacones/sandalia-martha/                   https://femenina.com.bo/wp-content/uploads/2024/09/2453402-1-300x300.jpg              Bs. 450                                                                                                                                    Descubre la combinación perfecta entre estilo y ligereza con nuestra sandalia Comfortflex. Es la elección adecuada para añadir un toque de elegancia a tu look.\n",
            "               Tacon Analia                         https://femenina.com.bo/shop/zapatos/tacones-fiesta/tacon-analia/                   https://femenina.com.bo/wp-content/uploads/2024/12/2457302-5-300x300.jpg              Bs. 460                                                                                                                           La elección perfecta para quienes buscan estilo y comodidad en el día a día. Su tacón bajo garantiza estabilidad, lo que lo hace ideal para moverte durante todo el día.\n",
            "             Sandalia Neiva                                https://femenina.com.bo/shop/sin-categoria/sandalia-neiva/                   https://femenina.com.bo/wp-content/uploads/2024/09/2457452-2-300x300.jpg              Bs. 470                                                                                       Esta sandalia es perfecta para mujeres que buscan estilo y practicidad en su día a día. Con un diseño moderno y sofisticado, presenta un tacón medio que aporta estabilidad y comodidad durante todo su uso.\n",
            "            Ballerina Elena                               https://femenina.com.bo/shop/sin-categoria/ballerina-elena/                   https://femenina.com.bo/wp-content/uploads/2024/05/2482331-3-300x300.jpg              Bs. 480                                                                                                                                 Elegancia y comodidad se encuentran en esta ballerina. El tacón bajo garantiza una comodidad incomparable, perfecto para el día a día o para ocasiones especiales.\n",
            "              Mocasín Lidia                             https://femenina.com.bo/shop/zapatos/mocasines/mocasin-lidia/                   https://femenina.com.bo/wp-content/uploads/2024/06/2472302-1-300x300.jpg              Bs. 490                                                                                                                                   Clásico y atemporal, este mocasín es un elemento esencial versátil. Ideal para cualquier ocasión, aporta un toque de sofisticación sin renunciar a la comodidad.\n",
            "              Sandalia Elva                               https://femenina.com.bo/shop/zapatos/tacones/sandalia-elva/                   https://femenina.com.bo/wp-content/uploads/2024/09/2361403-7-300x300.jpg              Bs. 490                                                                                                                                      Consigue el equilibrio perfecto entre estilo y comodidad con las sandalias de tacón en bloque. Un estilo versátil de tacón bloque perfecta para tu día a día.\n",
            "           Mocasines Oxford                                    https://femenina.com.bo/shop/zapatos/mocasines-oxford/              https://femenina.com.bo/wp-content/uploads/2024/04/2376301-7.jpg-300x300.webp              Bs. 510                                                                                                                                                 Los mocasines reaparecen en invierno con la fuerza y ​​la belleza de los clásicos, pero con un look totalmente moderno y actual para la temporada.\n",
            "            Zapatilla Brisa                      https://femenina.com.bo/shop/zapatos/tenis-casuales/zapatilla-brisa/              https://femenina.com.bo/wp-content/uploads/2024/04/2390302-8.jpg-300x300.webp              Bs. 510                                                                         ¡Las zapatillas dominaron el mundo de la moda! Desde combinaciones elegantes hasta casuales, este modelo cuenta con plantillas anatómicas y suaves, además de detalles en plata, para un look súper encantador y delicado.\n",
            "              Bota en punta                                     https://femenina.com.bo/shop/zapatos/bota-en-punta-2/              https://femenina.com.bo/wp-content/uploads/2024/04/2392301-1.jpg-300x300.webp              Bs. 550                                                                                                                                                                                             La apuesta perfecta para quienes buscan comodidad y un look atractivo en la estación más fría del año.\n",
            "              Mocasín Elena                        https://femenina.com.bo/shop/zapatos/mocasines/mocasin-con-cadena/ https://femenina.com.bo/wp-content/uploads/2024/04/Mocasin-Elena-3-600x600jpg-300x300.webp              Bs. 550                                                                                                                   Los mocasines reaparecen con un estilo totalmente moderno y actualizado para la temporada. Los detalles de cadenas añaden la cantidad justa de brillo ¡Amarás cada paso que des!\n",
            "            Mocasin Marcela                           https://femenina.com.bo/shop/zapatos/mocasines/anabela-marcela/                 https://femenina.com.bo/wp-content/uploads/2023/11/2393403-1-1-300x300.jpg              Bs. 550                                                                                                                                                                                                                         Zapato Anabela fabricado íntegramente en piel, suave, ligero y muy cómodo.\n",
            "              Zapato  Couro                              https://femenina.com.bo/shop/zapatos/mocasines/zapato-couro/              https://femenina.com.bo/wp-content/uploads/2024/04/2393401-2.jpg-300x300.webp              Bs. 550                                                                                                                                     Este zapato de mujer de la marca Comfortflex está fabricado en piel. Zapato de mujer cómodo que combina con looks cotidianos, estilo slip on, fácil de calzar.\n",
            "               Mocasín Ruth                              https://femenina.com.bo/shop/zapatos/mocasines/mocasin-ruth/              https://femenina.com.bo/wp-content/uploads/2024/04/2393402-1.jpg-300x300.webp              Bs. 550                                                                                                                                                Elevando el concepto de comodidad, nuestros zapatos son la opción ideal para quienes valoran la calidad y el bienestar. ¡Tus pies merecen lo mejor!\n",
            "          Slingback Julieta                           https://femenina.com.bo/shop/sin-categoria/slingback-julieta-2/                   https://femenina.com.bo/wp-content/uploads/2024/12/2464431-2-300x300.jpg              Bs. 550                                                                                                                                                                 Fabricado con materiales de alta calidad, se adapta perfectamente a tu día a día. Sé el centro de atención y camina con confianza.\n",
            "         Bota taco cuadrado                                  https://femenina.com.bo/shop/zapatos/bota-taco-cuadrado/              https://femenina.com.bo/wp-content/uploads/2024/04/2392302-2.jpg-300x300.webp              Bs. 570                                                                                                                                                                                             La apuesta perfecta para quienes buscan comodidad y un look atractivo en la estación más fría del año.\n",
            "               Bota Chelsea                        https://femenina.com.bo/shop/zapatos/botas-y-botines/bota-chelsea/              https://femenina.com.bo/wp-content/uploads/2024/04/2347301-1.jpg-300x300.webp              Bs. 610                                                                                                                                                  Esta bota con detalle de elástico lateral de calce fácil, tiene el poder de transformar prendas invernales en looks renovados y llenos de estilo.\n",
            "             Sandalia Lycra                                      https://femenina.com.bo/shop/zapatos/sandalia-lycra/              https://femenina.com.bo/wp-content/uploads/2024/04/2351402-3.jpg-300x300.webp              Bs. 620                                                                                                                                                                                    Este modelo de licra es increíblemente cómodo ¡La opción perfecta para quienes buscan bienestar para sus pasos!\n",
            "               Bota Adriana                      https://femenina.com.bo/shop/zapatos/botas-y-botines/bota-adriana-2/                   https://femenina.com.bo/wp-content/uploads/2024/05/2491301-4-300x300.jpg              Bs. 620                                                                                                Con un diseño sofisticado y una comodidad inigualable, estas botas son la elección perfecta para quienes buscan estilo sin renunciar al bienestar. Ideal para componer looks modernos y versátiles.\n",
            "               Bota Claudia                        https://femenina.com.bo/shop/zapatos/botas-y-botines/bota-claudia/                   https://femenina.com.bo/wp-content/uploads/2024/05/2492301-1-300x300.jpg              Bs. 620                                                                           Con tacones en bloque, ofrece elegancia sin renunciar a la comodidad. Su diseño moderno y versátil combina con diferentes looks, desde casual hasta sofisticado.Hecho para mujeres que valoran el estilo y el bienestar.\n",
            "                  Bota Malú                           https://femenina.com.bo/shop/zapatos/botas-y-botines/bota-malu/                   https://femenina.com.bo/wp-content/uploads/2024/05/2492303-1-300x300.jpg              Bs. 620                                                                                Descubre el equilibrio perfecto entre estilo y comodidad con estas elegantes botas. Diseñados para adaptarse a cualquier ocasión, cuentan con un tacón robusto que aporta estabilidad sin renunciar a la elegancia.\n",
            "                Bota Noelia                         https://femenina.com.bo/shop/zapatos/botas-y-botines/bota-noelia/                   https://femenina.com.bo/wp-content/uploads/2024/05/2492304-4-300x300.jpg              Bs. 620 Combina un estilo sofisticado con una comodidad excepcional, con un diseño de punta en punta y detalles de costuras, es perfecto para cualquier ocasión. Calidad superior: fabricada con material de alta calidad, esta bota no solo tiene un aspecto lujoso sino que también promete durabilidad.\n",
            "       Bota Sarah Con Tacón                https://femenina.com.bo/shop/zapatos/botas-y-botines/bota-sarah-con-tacon/              https://femenina.com.bo/wp-content/uploads/2024/04/2399301-8.jpg-300x300.webp              Bs. 640                                                                                     ¡La riqueza de cada detalle hace de este modelo la verdadera pieza clave de la temporada! Tiene líneas modernas que destilan feminidad, sin olvidar el diferencial de la cremallera en el exterior de la caña.\n",
            "       BOTINES Mini Chelsea                                https://femenina.com.bo/shop/zapatos/botines-mini-chelsea/              https://femenina.com.bo/wp-content/uploads/2024/04/2369301-1.jpg-300x300.webp              Bs. 670                                                                                                                                                                                                                                Botines con detalles atractivos que dan un look moderno y elegante.\n",
            "   Bota de cuero tractorada                            https://femenina.com.bo/shop/zapatos/bota-de-cuero-tractorada/              https://femenina.com.bo/wp-content/uploads/2024/04/2377302-2.jpg-300x300.webp              Bs. 690                                                                                                                                 ¡Clásico y esencial! La apuesta perfecta para quienes buscan comodidad ¡Tiene líneas delicadas llenas de actitud y detalles metálicos que brillan a la perfección!\n",
            "       Bota De Hebilla Rosy               https://femenina.com.bo/shop/zapatos/botas-y-botines/bota-dae-hebilla-rosy/              https://femenina.com.bo/wp-content/uploads/2024/04/2369303-2.jpg-300x300.webp              Bs. 730                                                                                      La apuesta perfecta para quienes buscan comodidad y un look atractivo en la estación más fría del año ¡Los detalles metálicos dan la cantidad justa de brillo! Su versatilidad se adapta a todos los estilos.\n",
            "                Bota Estela                         https://femenina.com.bo/shop/zapatos/botas-y-botines/bota-estela/                   https://femenina.com.bo/wp-content/uploads/2024/06/2469301-1-300x300.jpg              Bs. 740                                                                                          ¡Elegancia y Comodidad! Perfectas para quienes valoran el estilo y la comodidad. Un diseño encantador, con detalles de costuras finas y tiradores elegantes, es la opción ideal para un look sofisticado.\n",
            "               Bota Natalia                        https://femenina.com.bo/shop/zapatos/botas-y-botines/bota-natalia/                   https://femenina.com.bo/wp-content/uploads/2024/06/2469303-2-300x300.jpg              Bs. 760                      Explora la auténtica elegancia de nuestras botas, una fusión de estilo y durabilidad, brindando una experiencia única para los amantes del calzado de calidad. El cuero no sólo aporta un toque sofisticado, sino que también garantiza resistencia y comodidad en el tiempo.\n",
            "                 Botas Only                                          https://femenina.com.bo/shop/zapatos/botas-only/              https://femenina.com.bo/wp-content/uploads/2024/04/2369334-2.jpg-300x300.webp              Bs. 930                                                                                                                                                                        El diseño de las botas permite un ajuste perfecto alrededor del pie y la pierna, lo que las hace cómodas y seguras de usar.\n",
            "        Botas ajustadas Any                                 https://femenina.com.bo/shop/zapatos/botas-ajustadas-any/              https://femenina.com.bo/wp-content/uploads/2024/04/2369335-1.jpg-300x300.webp              Bs. 930                                                                                                          Las botas son versátiles y se pueden combinar con una amplia variedad de estilos, desde jeans hasta vestidos, lo que las convierte en un calzado muy práctico para cualquier guardarropa.\n"
          ]
        }
      ]
    }
  ]
}